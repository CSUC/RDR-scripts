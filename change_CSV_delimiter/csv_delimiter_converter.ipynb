{
  "nbformat": 4,
  "nbformat_minor": 0,
  "metadata": {
    "colab": {
      "provenance": [],
      "include_colab_link": true
    },
    "kernelspec": {
      "name": "python3",
      "display_name": "Python 3"
    },
    "language_info": {
      "name": "python"
    }
  },
  "cells": [
    {
      "cell_type": "markdown",
      "metadata": {
        "id": "view-in-github",
        "colab_type": "text"
      },
      "source": [
        "<a href=\"https://colab.research.google.com/github/CSUC/RDR-scripts/blob/main/change_CSV_delimiter/csv_delimiter_converter.ipynb\" target=\"_parent\"><img src=\"https://colab.research.google.com/assets/colab-badge.svg\" alt=\"Open In Colab\"/></a>"
      ]
    },
    {
      "cell_type": "markdown",
      "source": [
        "#Change semicolon delimiter to comma\n",
        "### OBSERVATION:\n",
        "If you have doubts about the code, contact rdr-contacte@csuc.cat\n",
        "### PURPOSE OF THE SCRIPT\n",
        "The main purpose of this script is to transform the semicolon delimiter of CSV files to comma."
      ],
      "metadata": {
        "id": "C1ixXEKXFcGe"
      }
    },
    {
      "cell_type": "code",
      "source": [
        "# @title First click the &#x25B6; button to execute the script. </p> Then clic the <strong>'Upload'</strong> button to upload the CSV files. </p>\n",
        "import os\n",
        "import csv\n",
        "import shutil\n",
        "from google.colab import files\n",
        "import ipywidgets as widgets\n",
        "from IPython.display import display, HTML, clear_output\n",
        "from io import StringIO\n",
        "\n",
        "# Function to process the CSV file\n",
        "def process_csv(csv_content):\n",
        "    output_csv = StringIO()\n",
        "\n",
        "    # Read the input with the correct delimiter\n",
        "    csv_reader = csv.reader(StringIO(csv_content), delimiter=';')\n",
        "    csv_writer = csv.writer(output_csv, delimiter=',', quoting=csv.QUOTE_MINIMAL)\n",
        "\n",
        "    for row in csv_reader:\n",
        "        csv_writer.writerow(row)\n",
        "\n",
        "    return output_csv.getvalue()\n",
        "\n",
        "# Function to handle file uploads\n",
        "def on_file_upload(change):\n",
        "    clear_output(wait=True)\n",
        "\n",
        "    if not change.new:\n",
        "        print(\"Please upload a file.\")\n",
        "        return\n",
        "\n",
        "    uploaded_files = change.new.values()\n",
        "\n",
        "    # Directory for processed files\n",
        "    directory_name = 'processed_csv_files'\n",
        "    os.makedirs(directory_name, exist_ok=True)\n",
        "\n",
        "    for uploaded_file in uploaded_files:\n",
        "        file_content = uploaded_file['content'].decode('utf-8', errors='replace')  # Decode with UTF-8\n",
        "        original_filename = uploaded_file['metadata']['name']\n",
        "        new_filename = os.path.splitext(original_filename)[0] + '.csv'\n",
        "\n",
        "        # Process the CSV content\n",
        "        processed_csv_content = process_csv(file_content)\n",
        "\n",
        "        # Save processed content to file\n",
        "        new_file_path = os.path.join(directory_name, new_filename)\n",
        "        with open(new_file_path, 'w', encoding='utf-8') as f:\n",
        "            f.write(processed_csv_content)\n",
        "\n",
        "    # Create a zip file of the processed directory\n",
        "    zip_file = shutil.make_archive(directory_name, 'zip', directory_name)\n",
        "\n",
        "    # Trigger the download\n",
        "    files.download(zip_file)\n",
        "\n",
        "# Display upload instructions\n",
        "display(HTML(\"<p style='font-size:14px;'><b>Please upload your semicolon-separated CSV files.</b></p>\"))\n",
        "\n",
        "# Create and display file upload widget\n",
        "upload_button = widgets.FileUpload(accept='.csv', multiple=True)\n",
        "upload_button.observe(on_file_upload, names='value')\n",
        "display(upload_button)\n"
      ],
      "metadata": {
        "id": "oNkotb_xOPK-",
        "cellView": "form"
      },
      "execution_count": null,
      "outputs": []
    }
  ]
}