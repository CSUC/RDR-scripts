{
  "nbformat": 4,
  "nbformat_minor": 0,
  "metadata": {
    "colab": {
      "provenance": [],
      "include_colab_link": true
    },
    "kernelspec": {
      "name": "python3",
      "display_name": "Python 3"
    },
    "language_info": {
      "name": "python"
    }
  },
  "cells": [
    {
      "cell_type": "markdown",
      "metadata": {
        "id": "view-in-github",
        "colab_type": "text"
      },
      "source": [
        "<a href=\"https://colab.research.google.com/github/CSUC/RDR-scripts/blob/main/change_CSV_delimiter/csv_delimiter_converter.ipynb\" target=\"_parent\"><img src=\"https://colab.research.google.com/assets/colab-badge.svg\" alt=\"Open In Colab\"/></a>"
      ]
    },
    {
      "cell_type": "markdown",
      "source": [
        "#Change semicolon delimiter to comma\n",
        "### OBSERVATION:\n",
        "If you have doubts about the code, contact rdr-contacte@csuc.cat\n",
        "### PURPOSE OF THE SCRIPT\n",
        "The main purpose of this script is to transform the semicolon delimiter of CSV files to comma."
      ],
      "metadata": {
        "id": "C1ixXEKXFcGe"
      }
    },
    {
      "cell_type": "code",
      "source": [
        "# @title First click the ▶ button to execute the script. </p> Then click the <strong>'Upload'</strong> button to upload the CSV files. </p>\n",
        "import os\n",
        "import csv\n",
        "import shutil\n",
        "import chardet\n",
        "from google.colab import files\n",
        "import ipywidgets as widgets\n",
        "from IPython.display import display, HTML, clear_output\n",
        "from io import StringIO\n",
        "\n",
        "# Detect encoding using chardet\n",
        "def detect_encoding(byte_content):\n",
        "    result = chardet.detect(byte_content)\n",
        "    return result['encoding'] or 'utf-8'\n",
        "\n",
        "# Process CSV content: convert ; → , and quote fields with commas\n",
        "def process_csv(byte_content, original_filename):\n",
        "    encoding = detect_encoding(byte_content)\n",
        "    print(f\"Detected encoding for {original_filename}: {encoding}\")  # Debug\n",
        "\n",
        "    decoded_text = byte_content.decode(encoding, errors='replace')\n",
        "\n",
        "    # Use csv.reader to correctly parse quoted fields\n",
        "    input_io = StringIO(decoded_text)\n",
        "    reader = csv.reader(input_io, delimiter=';', quotechar='\"')\n",
        "\n",
        "    output_lines = []\n",
        "\n",
        "    for row in reader:\n",
        "        new_fields = []\n",
        "\n",
        "        for field in row:\n",
        "            field = field.strip()\n",
        "            # If field contains a comma or a quote, quote it and escape quotes\n",
        "            if ',' in field or '\"' in field:\n",
        "                field = field.replace('\"', '\"\"')\n",
        "                field = f'\"{field}\"'\n",
        "            new_fields.append(field)\n",
        "\n",
        "        output_lines.append(','.join(new_fields))\n",
        "\n",
        "    return '\\n'.join(output_lines)\n",
        "\n",
        "# Handle file uploads\n",
        "def on_file_upload(change):\n",
        "    clear_output(wait=True)\n",
        "\n",
        "    if not change.new:\n",
        "        print(\"⚠️ Please upload at least one file.\")\n",
        "        return\n",
        "\n",
        "    uploaded_files = change.new.values()\n",
        "\n",
        "    # Output directory\n",
        "    directory_name = 'processed_csv_files'\n",
        "    os.makedirs(directory_name, exist_ok=True)\n",
        "\n",
        "    processed_count = 0\n",
        "\n",
        "    for uploaded_file in uploaded_files:\n",
        "        byte_content = uploaded_file['content']\n",
        "        original_filename = uploaded_file['metadata']['name']\n",
        "        new_filename = os.path.splitext(original_filename)[0] + '_converted.csv'\n",
        "\n",
        "        processed_content = process_csv(byte_content, original_filename)\n",
        "\n",
        "        if processed_content:\n",
        "            file_path = os.path.join(directory_name, new_filename)\n",
        "\n",
        "            # Write with utf-8-sig so Excel reads correctly\n",
        "            with open(file_path, 'w', encoding='utf-8-sig', newline='') as f:\n",
        "                f.write(processed_content)\n",
        "\n",
        "            processed_count += 1\n",
        "\n",
        "    if processed_count == 0:\n",
        "        print(\"⚠️ No files were successfully processed.\")\n",
        "        return\n",
        "\n",
        "    # Zip processed files\n",
        "    zip_file = shutil.make_archive(directory_name, 'zip', directory_name)\n",
        "\n",
        "    print(f\"✅ Successfully processed {processed_count} file(s). Preparing download...\")\n",
        "    files.download(zip_file)\n",
        "\n",
        "# Display instructions\n",
        "display(HTML(\"\"\"\n",
        "<p style='font-size:14px;'><b>\n",
        "Please upload your CSV files using semicolon (;) delimiters.<br>\n",
        "They will be converted to UTF-8, comma-delimited CSV files.<br>\n",
        "Fields with commas will be quoted. Resulting files will be zipped for download.<br>\n",
        "Excel-compatible: UTF-8 BOM is included to ensure correct display of special characters.<br>\n",
        "Quoted fields will preserve semicolons inside the text correctly.\n",
        "</b></p>\n",
        "\"\"\"))\n",
        "\n",
        "# File upload widget\n",
        "uploader = widgets.FileUpload(accept='.csv', multiple=True)\n",
        "uploader.observe(on_file_upload, names='value')\n",
        "display(uploader)\n"
      ],
      "metadata": {
        "cellView": "form",
        "id": "ZinbjBZJkQC0"
      },
      "execution_count": null,
      "outputs": []
    }
  ]
}