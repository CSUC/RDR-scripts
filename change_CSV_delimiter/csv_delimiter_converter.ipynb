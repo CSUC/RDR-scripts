{
  "nbformat": 4,
  "nbformat_minor": 0,
  "metadata": {
    "colab": {
      "provenance": []
    },
    "kernelspec": {
      "name": "python3",
      "display_name": "Python 3"
    },
    "language_info": {
      "name": "python"
    }
  },
  "cells": [
    {
      "cell_type": "markdown",
      "source": [
        "#Change semicolon delimiter to comma"
      ],
      "metadata": {
        "id": "C1ixXEKXFcGe"
      }
    },
    {
      "cell_type": "markdown",
      "source": [
        "NOTE: If you have any questions about the code, please contact rdr-contacte@csuc.cat"
      ],
      "metadata": {
        "id": "9Wi0YLU1Fri0"
      }
    },
    {
      "cell_type": "markdown",
      "source": [
        "## PURPOSE OF THE SCRIPT"
      ],
      "metadata": {
        "id": "HGy0MwECInHt"
      }
    },
    {
      "cell_type": "markdown",
      "source": [
        "The main purpose of this script is to transform the semicolon delimiter of CSV files to comma."
      ],
      "metadata": {
        "id": "KJdn_tfjInsC"
      }
    },
    {
      "cell_type": "code",
      "source": [
        "# @title Upload the CSV files\n",
        "import os\n",
        "import csv\n",
        "import shutil\n",
        "from google.colab import files\n",
        "import ipywidgets as widgets\n",
        "from IPython.display import display, HTML, clear_output\n",
        "from io import StringIO\n",
        "\n",
        "# Function to process the CSV file\n",
        "def process_csv(csv_content):\n",
        "    output_csv = StringIO()\n",
        "\n",
        "    csv_reader = csv.reader(StringIO(csv_content), delimiter=';')\n",
        "    csv_writer = csv.writer(output_csv, delimiter=',', quoting=csv.QUOTE_MINIMAL)\n",
        "\n",
        "    for row in csv_reader:\n",
        "        csv_writer.writerow(row)\n",
        "\n",
        "    return output_csv.getvalue()\n",
        "\n",
        "# Function to handle file uploads\n",
        "def on_file_upload(change):\n",
        "    clear_output(wait=True)\n",
        "\n",
        "    # Check if any files are uploaded\n",
        "    if not change.new:\n",
        "        print(\"Please upload a file.\")\n",
        "        return\n",
        "\n",
        "    uploaded_files = change.new.values()\n",
        "\n",
        "    # Process each uploaded file\n",
        "    for uploaded_file in uploaded_files:\n",
        "        file_content = uploaded_file['content'].decode('utf-8')\n",
        "        original_filename = uploaded_file['metadata']['name']\n",
        "        new_filename = os.path.splitext(original_filename)[0] + '_new.csv'\n",
        "\n",
        "        # Process the CSV content\n",
        "        processed_csv_content = process_csv(file_content)\n",
        "\n",
        "        # Save the processed CSV content to a file\n",
        "        with open(new_filename, 'w', encoding='utf-8') as f:\n",
        "            f.write(processed_csv_content)\n",
        "\n",
        "    # Create a directory to store processed files\n",
        "    directory_name = 'processed_csv_files'\n",
        "    os.makedirs(directory_name, exist_ok=True)\n",
        "\n",
        "    # Move processed files to the directory\n",
        "    for uploaded_file in uploaded_files:\n",
        "        original_filename = uploaded_file['metadata']['name']\n",
        "        new_filename = os.path.splitext(original_filename)[0] + '_new.csv'\n",
        "        shutil.move(new_filename, os.path.join(directory_name, new_filename))\n",
        "\n",
        "    # Create a zip file of the directory\n",
        "    zip_file = shutil.make_archive(directory_name, 'zip', directory_name)\n",
        "\n",
        "    # Trigger the download of the zip file\n",
        "    files.download(zip_file)\n",
        "\n",
        "# Displaying file upload message\n",
        "display(HTML(\"<p style='font-size:14px;'><b>Please upload your semicolon-separated CSV files.</b></p>\"))\n",
        "\n",
        "# Creating upload button\n",
        "upload_button = widgets.FileUpload(accept='.csv', multiple=True)\n",
        "upload_button.observe(on_file_upload, names='value')\n",
        "\n",
        "# Displaying the upload button\n",
        "display(upload_button)\n"
      ],
      "metadata": {
        "id": "oNkotb_xOPK-",
        "cellView": "form"
      },
      "execution_count": null,
      "outputs": []
    }
  ]
}