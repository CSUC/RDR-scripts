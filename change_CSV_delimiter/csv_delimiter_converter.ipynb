{
  "nbformat": 4,
  "nbformat_minor": 0,
  "metadata": {
    "colab": {
      "provenance": []
    },
    "kernelspec": {
      "name": "python3",
      "display_name": "Python 3"
    },
    "language_info": {
      "name": "python"
    },
    "widgets": {
      "application/vnd.jupyter.widget-state+json": {
        "2e943eef075141308918c30de1c1a8eb": {
          "model_module": "@jupyter-widgets/controls",
          "model_name": "FileUploadModel",
          "model_module_version": "1.5.0",
          "state": {
            "_counter": 1,
            "_dom_classes": [],
            "_model_module": "@jupyter-widgets/controls",
            "_model_module_version": "1.5.0",
            "_model_name": "FileUploadModel",
            "_view_count": null,
            "_view_module": "@jupyter-widgets/controls",
            "_view_module_version": "1.5.0",
            "_view_name": "FileUploadView",
            "accept": ".csv",
            "button_style": "",
            "data": [
              null
            ],
            "description": "Upload",
            "description_tooltip": null,
            "disabled": false,
            "error": "",
            "icon": "upload",
            "layout": "IPY_MODEL_4d70bc32290a4cceac45f93d36d5ddfb",
            "metadata": [
              {
                "name": "Dissident_Gender-categorized-data.csv",
                "type": "text/csv",
                "size": 166389,
                "lastModified": 1732691247898
              }
            ],
            "multiple": true,
            "style": "IPY_MODEL_2a74650cde1943289f17945ff18ed82e"
          }
        },
        "4d70bc32290a4cceac45f93d36d5ddfb": {
          "model_module": "@jupyter-widgets/base",
          "model_name": "LayoutModel",
          "model_module_version": "1.2.0",
          "state": {
            "_model_module": "@jupyter-widgets/base",
            "_model_module_version": "1.2.0",
            "_model_name": "LayoutModel",
            "_view_count": null,
            "_view_module": "@jupyter-widgets/base",
            "_view_module_version": "1.2.0",
            "_view_name": "LayoutView",
            "align_content": null,
            "align_items": null,
            "align_self": null,
            "border": null,
            "bottom": null,
            "display": null,
            "flex": null,
            "flex_flow": null,
            "grid_area": null,
            "grid_auto_columns": null,
            "grid_auto_flow": null,
            "grid_auto_rows": null,
            "grid_column": null,
            "grid_gap": null,
            "grid_row": null,
            "grid_template_areas": null,
            "grid_template_columns": null,
            "grid_template_rows": null,
            "height": null,
            "justify_content": null,
            "justify_items": null,
            "left": null,
            "margin": null,
            "max_height": null,
            "max_width": null,
            "min_height": null,
            "min_width": null,
            "object_fit": null,
            "object_position": null,
            "order": null,
            "overflow": null,
            "overflow_x": null,
            "overflow_y": null,
            "padding": null,
            "right": null,
            "top": null,
            "visibility": null,
            "width": null
          }
        },
        "2a74650cde1943289f17945ff18ed82e": {
          "model_module": "@jupyter-widgets/controls",
          "model_name": "ButtonStyleModel",
          "model_module_version": "1.5.0",
          "state": {
            "_model_module": "@jupyter-widgets/controls",
            "_model_module_version": "1.5.0",
            "_model_name": "ButtonStyleModel",
            "_view_count": null,
            "_view_module": "@jupyter-widgets/base",
            "_view_module_version": "1.2.0",
            "_view_name": "StyleView",
            "button_color": null,
            "font_weight": ""
          }
        }
      }
    }
  },
  "cells": [
    {
      "cell_type": "markdown",
      "source": [
        "#Change semicolon delimiter to comma"
      ],
      "metadata": {
        "id": "C1ixXEKXFcGe"
      }
    },
    {
      "cell_type": "markdown",
      "source": [
        "NOTE: If you have any questions about the code, please contact rdr-contacte@csuc.cat"
      ],
      "metadata": {
        "id": "9Wi0YLU1Fri0"
      }
    },
    {
      "cell_type": "markdown",
      "source": [
        "## PURPOSE OF THE SCRIPT"
      ],
      "metadata": {
        "id": "HGy0MwECInHt"
      }
    },
    {
      "cell_type": "markdown",
      "source": [
        "The main purpose of this script is to transform the semicolon delimiter of CSV files to comma."
      ],
      "metadata": {
        "id": "KJdn_tfjInsC"
      }
    },
    {
      "cell_type": "code",
      "source": [
        "# @title Upload the CSV files\n",
        "import os\n",
        "import csv\n",
        "import shutil\n",
        "from google.colab import files\n",
        "import ipywidgets as widgets\n",
        "from IPython.display import display, HTML, clear_output\n",
        "from io import StringIO\n",
        "\n",
        "# Function to process the CSV file\n",
        "def process_csv(csv_content):\n",
        "    output_csv = StringIO()\n",
        "\n",
        "    # Read the input with the correct delimiter\n",
        "    csv_reader = csv.reader(StringIO(csv_content), delimiter=';')\n",
        "    csv_writer = csv.writer(output_csv, delimiter=',', quoting=csv.QUOTE_MINIMAL)\n",
        "\n",
        "    for row in csv_reader:\n",
        "        csv_writer.writerow(row)\n",
        "\n",
        "    return output_csv.getvalue()\n",
        "\n",
        "# Function to handle file uploads\n",
        "def on_file_upload(change):\n",
        "    clear_output(wait=True)\n",
        "\n",
        "    if not change.new:\n",
        "        print(\"Please upload a file.\")\n",
        "        return\n",
        "\n",
        "    uploaded_files = change.new.values()\n",
        "\n",
        "    # Directory for processed files\n",
        "    directory_name = 'processed_csv_files'\n",
        "    os.makedirs(directory_name, exist_ok=True)\n",
        "\n",
        "    for uploaded_file in uploaded_files:\n",
        "        file_content = uploaded_file['content'].decode('utf-8', errors='replace')  # Decode with UTF-8\n",
        "        original_filename = uploaded_file['metadata']['name']\n",
        "        new_filename = os.path.splitext(original_filename)[0] + '_new.csv'\n",
        "\n",
        "        # Process the CSV content\n",
        "        processed_csv_content = process_csv(file_content)\n",
        "\n",
        "        # Save processed content to file\n",
        "        new_file_path = os.path.join(directory_name, new_filename)\n",
        "        with open(new_file_path, 'w', encoding='utf-8') as f:\n",
        "            f.write(processed_csv_content)\n",
        "\n",
        "    # Create a zip file of the processed directory\n",
        "    zip_file = shutil.make_archive(directory_name, 'zip', directory_name)\n",
        "\n",
        "    # Trigger the download\n",
        "    files.download(zip_file)\n",
        "\n",
        "# Display upload instructions\n",
        "display(HTML(\"<p style='font-size:14px;'><b>Please upload your semicolon-separated CSV files.</b></p>\"))\n",
        "\n",
        "# Create and display file upload widget\n",
        "upload_button = widgets.FileUpload(accept='.csv', multiple=True)\n",
        "upload_button.observe(on_file_upload, names='value')\n",
        "display(upload_button)\n"
      ],
      "metadata": {
        "id": "oNkotb_xOPK-",
        "cellView": "form",
        "outputId": "90d6a5ad-2f01-44f9-8d66-eb0763a15a41",
        "colab": {
          "base_uri": "https://localhost:8080/",
          "height": 17,
          "referenced_widgets": [
            "2e943eef075141308918c30de1c1a8eb",
            "4d70bc32290a4cceac45f93d36d5ddfb",
            "2a74650cde1943289f17945ff18ed82e"
          ]
        }
      },
      "execution_count": 1,
      "outputs": [
        {
          "output_type": "display_data",
          "data": {
            "text/plain": [
              "<IPython.core.display.Javascript object>"
            ],
            "application/javascript": [
              "\n",
              "    async function download(id, filename, size) {\n",
              "      if (!google.colab.kernel.accessAllowed) {\n",
              "        return;\n",
              "      }\n",
              "      const div = document.createElement('div');\n",
              "      const label = document.createElement('label');\n",
              "      label.textContent = `Downloading \"${filename}\": `;\n",
              "      div.appendChild(label);\n",
              "      const progress = document.createElement('progress');\n",
              "      progress.max = size;\n",
              "      div.appendChild(progress);\n",
              "      document.body.appendChild(div);\n",
              "\n",
              "      const buffers = [];\n",
              "      let downloaded = 0;\n",
              "\n",
              "      const channel = await google.colab.kernel.comms.open(id);\n",
              "      // Send a message to notify the kernel that we're ready.\n",
              "      channel.send({})\n",
              "\n",
              "      for await (const message of channel.messages) {\n",
              "        // Send a message to notify the kernel that we're ready.\n",
              "        channel.send({})\n",
              "        if (message.buffers) {\n",
              "          for (const buffer of message.buffers) {\n",
              "            buffers.push(buffer);\n",
              "            downloaded += buffer.byteLength;\n",
              "            progress.value = downloaded;\n",
              "          }\n",
              "        }\n",
              "      }\n",
              "      const blob = new Blob(buffers, {type: 'application/binary'});\n",
              "      const a = document.createElement('a');\n",
              "      a.href = window.URL.createObjectURL(blob);\n",
              "      a.download = filename;\n",
              "      div.appendChild(a);\n",
              "      a.click();\n",
              "      div.remove();\n",
              "    }\n",
              "  "
            ]
          },
          "metadata": {}
        },
        {
          "output_type": "display_data",
          "data": {
            "text/plain": [
              "<IPython.core.display.Javascript object>"
            ],
            "application/javascript": [
              "download(\"download_d41f2eb9-a00f-409b-a075-32fce380f770\", \"processed_csv_files.zip\", 2984)"
            ]
          },
          "metadata": {}
        }
      ]
    }
  ]
}
