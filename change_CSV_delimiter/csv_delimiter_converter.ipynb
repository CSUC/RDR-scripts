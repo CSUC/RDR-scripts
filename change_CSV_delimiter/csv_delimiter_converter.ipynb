{
  "nbformat": 4,
  "nbformat_minor": 0,
  "metadata": {
    "colab": {
      "provenance": [],
      "include_colab_link": true
    },
    "kernelspec": {
      "name": "python3",
      "display_name": "Python 3"
    },
    "language_info": {
      "name": "python"
    }
  },
  "cells": [
    {
      "cell_type": "markdown",
      "metadata": {
        "id": "view-in-github",
        "colab_type": "text"
      },
      "source": [
        "<a href=\"https://colab.research.google.com/github/CSUC/RDR-scripts/blob/main/change_CSV_delimiter/csv_delimiter_converter.ipynb\" target=\"_parent\"><img src=\"https://colab.research.google.com/assets/colab-badge.svg\" alt=\"Open In Colab\"/></a>"
      ]
    },
    {
      "cell_type": "markdown",
      "source": [
        "#Change semicolon delimiter to comma\n",
        "### OBSERVATION:\n",
        "If you have doubts about the code, contact rdr-contacte@csuc.cat\n",
        "### PURPOSE OF THE SCRIPT\n",
        "The main purpose of this script is to transform the semicolon delimiter of CSV files to comma."
      ],
      "metadata": {
        "id": "C1ixXEKXFcGe"
      }
    },
    {
      "cell_type": "code",
      "source": [
        "# @title First click the ▶ button to execute the script. </p> Then click the <strong>'Upload'</strong> button to upload the CSV files. </p>\n",
        "import os\n",
        "import csv\n",
        "import shutil\n",
        "import chardet\n",
        "from google.colab import files\n",
        "import ipywidgets as widgets\n",
        "from IPython.display import display, HTML, clear_output\n",
        "from io import StringIO\n",
        "\n",
        "# Detect encoding using chardet\n",
        "def detect_encoding(byte_content):\n",
        "    result = chardet.detect(byte_content)\n",
        "    return result['encoding'] or 'utf-8'\n",
        "\n",
        "# Process CSV content: convert ; → , and quote fields with commas\n",
        "def process_csv(byte_content, original_filename):\n",
        "    encoding = detect_encoding(byte_content)\n",
        "    decoded_text = byte_content.decode(encoding, errors='replace')\n",
        "\n",
        "    lines = decoded_text.splitlines()\n",
        "    output_lines = []\n",
        "\n",
        "    for line in lines:\n",
        "        fields = line.strip().split(';')  # only split on ;\n",
        "        new_fields = []\n",
        "\n",
        "        for field in fields:\n",
        "            field = field.strip()\n",
        "            if ',' in field or '\"' in field:\n",
        "                field = field.replace('\"', '\"\"')  # escape internal quotes\n",
        "                field = f'\"{field}\"'  # wrap in quotes\n",
        "            new_fields.append(field)\n",
        "\n",
        "        output_lines.append(','.join(new_fields))\n",
        "\n",
        "    return '\\n'.join(output_lines)\n",
        "\n",
        "# Handle file uploads\n",
        "def on_file_upload(change):\n",
        "    clear_output(wait=True)\n",
        "\n",
        "    if not change.new:\n",
        "        print(\"⚠️ Please upload at least one file.\")\n",
        "        return\n",
        "\n",
        "    uploaded_files = change.new.values()\n",
        "\n",
        "    # Output directory\n",
        "    directory_name = f'processed_csv_files'\n",
        "    os.makedirs(directory_name, exist_ok=True)\n",
        "\n",
        "    processed_count = 0\n",
        "\n",
        "    for uploaded_file in uploaded_files:\n",
        "        byte_content = uploaded_file['content']\n",
        "        original_filename = uploaded_file['metadata']['name']\n",
        "        new_filename = os.path.splitext(original_filename)[0] + '_converted.csv'\n",
        "\n",
        "        processed_content = process_csv(byte_content, original_filename)\n",
        "\n",
        "        if processed_content:\n",
        "            file_path = os.path.join(directory_name, new_filename)\n",
        "            with open(file_path, 'w', encoding='utf-8', newline='') as f:\n",
        "                f.write(processed_content)\n",
        "            processed_count += 1\n",
        "\n",
        "    if processed_count == 0:\n",
        "        print(\"⚠️ No files were successfully processed.\")\n",
        "        return\n",
        "\n",
        "    # Zip processed files\n",
        "    zip_file = shutil.make_archive(directory_name, 'zip', directory_name)\n",
        "\n",
        "    print(f\"✅ Successfully processed {processed_count} file(s). Preparing download...\")\n",
        "    files.download(zip_file)\n",
        "\n",
        "# Display instructions\n",
        "display(HTML(\"\"\"\n",
        "<p style='font-size:14px;'><b>\n",
        "Please upload your CSV files using semicolon (;) delimiters.<br>\n",
        "They will be converted to UTF-8, comma-delimited CSV files.<br>\n",
        "Fields with commas will be quoted. Resulting files will be zipped for download.\n",
        "</b></p>\n",
        "\"\"\"))\n",
        "\n",
        "# Upload widget\n",
        "upload_button = widgets.FileUpload(accept='.csv', multiple=True)\n",
        "upload_button.observe(on_file_upload, names='value')\n",
        "display(upload_button)\n",
        "\n"
      ],
      "metadata": {
        "cellView": "form",
        "id": "ZinbjBZJkQC0"
      },
      "execution_count": null,
      "outputs": []
    }
  ]
}