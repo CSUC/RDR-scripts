{
  "nbformat": 4,
  "nbformat_minor": 0,
  "metadata": {
    "colab": {
      "provenance": []
    },
    "kernelspec": {
      "name": "python3",
      "display_name": "Python 3"
    },
    "language_info": {
      "name": "python"
    }
  },
  "cells": [
    {
      "cell_type": "markdown",
      "source": [
        "OBSERVACIÓ: Si teniu dubtes del codi, contactar amb rdr-contacte@csuc.cat\n",
        "\n"
      ],
      "metadata": {
        "id": "bEhAMOQXpjZW"
      }
    },
    {
      "cell_type": "markdown",
      "source": [
        "## OBJECTIU DE L'SCRIPT"
      ],
      "metadata": {
        "id": "n-zfAGbxrpef"
      }
    },
    {
      "cell_type": "markdown",
      "source": [
        "L'objectiu principal d'aquest script és extreure els links persistents dels fitxers dels datasets."
      ],
      "metadata": {
        "id": "CyzNH6-VrswG"
      }
    },
    {
      "cell_type": "code",
      "source": [
        "# @title Install or Update Libraries. Click the Run button &#x25B6;\n",
        "import ipywidgets as widgets\n",
        "from IPython.display import display, HTML, clear_output\n",
        "\n",
        "def install_packages(b):\n",
        "    \"\"\"\n",
        "    Function to install or update required Python libraries.\n",
        "\n",
        "    Args:\n",
        "    b: Button object.\n",
        "\n",
        "    Returns:\n",
        "    None\n",
        "    \"\"\"\n",
        "    clear_output(wait=True)\n",
        "    !pip install --upgrade pip -q\n",
        "    !pip install pyDataverse -q\n",
        "    !pip install xlsxwriter -q\n",
        "    !pip install pandas -q\n",
        "    print(\"Libraries have been downloaded or updated.\")\n",
        "\n",
        "# Display installation message\n",
        "display(HTML(\"<p style='font-size:14px;'><b>Click the button below to install the libraries.</b></p>\"))\n",
        "\n",
        "# Create installation button\n",
        "install_button = widgets.Button(description='Install Libraries')\n",
        "install_button.on_click(install_packages)\n",
        "\n",
        "# Display the installation button\n",
        "display(install_button)"
      ],
      "metadata": {
        "id": "cgzJstRppkbM",
        "cellView": "form"
      },
      "execution_count": null,
      "outputs": []
    },
    {
      "cell_type": "code",
      "source": [
        "# @title Enter API token, doi (in format doi:10.34810/dataXXX ) and the repository URL. Click the &#x25B6; button to execute cell\n",
        "from IPython.display import display, FileLink\n",
        "try:\n",
        "    from google.colab import files\n",
        "    import ipywidgets as widgets\n",
        "    IN_COLAB = True\n",
        "except ImportError:\n",
        "    IN_COLAB = False\n",
        "import os\n",
        "from pyDataverse.api import NativeApi, DataAccessApi\n",
        "from pyDataverse.models import Dataverse\n",
        "import pandas as pd\n",
        "# Provide input values\n",
        "token = \"\"  # @param {type:\"string\"}\n",
        "identifier = \"\"  # @param {type:\"string\"}\n",
        "base_url = \"https://dataverse.csuc.cat/\"  # @param {type:\"string\"}\n",
        "doi = identifier\n",
        "api = NativeApi(base_url,token)\n",
        "data_api = DataAccessApi(base_url,token)\n",
        "def filemetadata(base_url, token, doi, filemetadata_keys, filemetadata_values):\n",
        "    \"\"\"\n",
        "    Function to extract metadata for files associated with a dataset identified by its DOI.\n",
        "\n",
        "    Parameters:\n",
        "    - base_url: str. Base URL of the Dataverse instance.\n",
        "    - token: str. API token for authentication.\n",
        "    - doi: str. DOI of the dataset.\n",
        "    - filemetadata_keys: list. List to store file metadata keys.\n",
        "    - filemetadata_values: list. List to store file metadata values.\n",
        "\n",
        "    Returns:\n",
        "    - None. Updates the provided lists with extracted file metadata.\n",
        "    \"\"\"\n",
        "    from pyDataverse.api import NativeApi, DataAccessApi\n",
        "    from pyDataverse.models import Dataverse\n",
        "\n",
        "    # Instantiate API objects for accessing Dataverse\n",
        "    api = NativeApi(base_url, token)\n",
        "    data_api = DataAccessApi(base_url, token)\n",
        "\n",
        "    try:\n",
        "        # Retrieve dataset metadata\n",
        "        dataset = api.get_dataset(doi)\n",
        "\n",
        "        # Iterate through files and extract metadata\n",
        "        for i in range(len(dataset.json()['data']['latestVersion']['files'])):\n",
        "            filemetadata_resp = dataset.json()['data']['latestVersion']['files'][i]['dataFile']\n",
        "            filemetadata_keys_aux = list(filemetadata_resp.keys())\n",
        "            filemetadata_values_aux = list(filemetadata_resp.values())\n",
        "            filemetadata_keys.append(filemetadata_keys_aux)\n",
        "            filemetadata_values.append(filemetadata_values_aux)\n",
        "    except KeyError:\n",
        "        print('There was an error reading metadata for the files of the dataset: ' + doi)\n",
        "filemetadata_keys_one=[]\n",
        "filemetadata_values_one=[]\n",
        "filemetadata(base_url, token, doi,filemetadata_keys_one,filemetadata_values_one)\n",
        "# Create a DataFrame\n",
        "df = pd.DataFrame(columns=['id', 'filename'])\n",
        "\n",
        "# Populate the DataFrame\n",
        "data = []\n",
        "for values in filemetadata_values_one:\n",
        "    data.append({'id': f\"https://dataverse.csuc.cat/file.xhtml?fileId={values[0]}\", 'filename': values[3]})\n",
        "df = pd.concat([df, pd.DataFrame(data)], ignore_index=True)\n",
        "# Rename 'id' column to 'Persistent Link'\n",
        "df.rename(columns={'id': 'Persistent Link'}, inplace=True)\n",
        "# Save DataFrame to Excel\n",
        "excel_name = doi.split(\"/\")[-1]\n",
        "with pd.ExcelWriter(f'{excel_name}.xlsx', engine='xlsxwriter') as writer:\n",
        "    df.to_excel(writer, sheet_name=excel_name)\n",
        "\n",
        "# Download button\n",
        "files.download(f'{excel_name}.xlsx')"
      ],
      "metadata": {
        "id": "J2kPY1tnptd1",
        "cellView": "form"
      },
      "execution_count": null,
      "outputs": []
    }
  ]
}