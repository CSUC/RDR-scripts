{
  "nbformat": 4,
  "nbformat_minor": 0,
  "metadata": {
    "colab": {
      "provenance": []
    },
    "kernelspec": {
      "name": "python3",
      "display_name": "Python 3"
    },
    "language_info": {
      "name": "python"
    }
  },
  "cells": [
    {
      "cell_type": "markdown",
      "source": [
        "# Transformar fitxer en format Excel a format CSV"
      ],
      "metadata": {
        "id": "pWMzJwaK7Bxb"
      }
    },
    {
      "cell_type": "markdown",
      "source": [
        "OBSERVACIÓ: Si teniu dubtes del codi, contactar amb rdr-contacte@csuc.cat"
      ],
      "metadata": {
        "id": "3qVh6j8m7H2Z"
      }
    },
    {
      "cell_type": "markdown",
      "source": [
        "## OBJECTIU DE L'SCRIPT"
      ],
      "metadata": {
        "id": "eiTfob2B7hSh"
      }
    },
    {
      "cell_type": "markdown",
      "source": [
        "L'objectiu principal d'aquest script és transformar les fulles d'un fitxer excel en diferents fitxers CSV"
      ],
      "metadata": {
        "id": "761_OvZc7WAp"
      }
    },
    {
      "cell_type": "code",
      "execution_count": null,
      "metadata": {
        "id": "CxjWl9ffEpMa",
        "cellView": "form"
      },
      "outputs": [],
      "source": [
        "# @title Install necessary packages\n",
        "!pip install pandas openpyxl\n",
        "\n",
        "# Import required libraries\n",
        "import shutil\n",
        "import os\n",
        "import pandas as pd\n",
        "from google.colab import files\n",
        "import ipywidgets as widgets\n",
        "from IPython.display import display, HTML, clear_output"
      ]
    },
    {
      "cell_type": "code",
      "source": [
        "# @title Upload the excel file\n",
        "import os\n",
        "import pandas as pd\n",
        "from google.colab import files\n",
        "import ipywidgets as widgets\n",
        "from IPython.display import display, HTML, clear_output\n",
        "import shutil\n",
        "\n",
        "xls_file = None  # Declare xls_file variable outside the function\n",
        "directory_name = None  # Declare directory_name as a global variable\n",
        "\n",
        "def detect_and_save_tables(sheet_name, df):\n",
        "    # Initialize variables\n",
        "    tables = []\n",
        "    current_table = []\n",
        "\n",
        "    # Iterate over rows\n",
        "    for index, row in df.iterrows():\n",
        "        # Check if the row is completely empty\n",
        "        if row.isnull().all():\n",
        "            if current_table:\n",
        "                tables.append(current_table.copy())\n",
        "                current_table = []\n",
        "        else:\n",
        "            current_table.append(row)\n",
        "\n",
        "    # Append the last table\n",
        "    if current_table:\n",
        "        tables.append(current_table.copy())\n",
        "\n",
        "    # Convert each table to DataFrame and save as CSV\n",
        "    csv_files = []\n",
        "    for i, table in enumerate(tables):\n",
        "        table_df = pd.DataFrame(table)\n",
        "        csv_file = f\"{sheet_name}_{i+1}.csv\"\n",
        "        table_df.to_csv(csv_file, index=False, header=False)  # Disable header\n",
        "        csv_files.append(csv_file)\n",
        "\n",
        "    return csv_files\n",
        "\n",
        "def process_excel(change):\n",
        "    global directory_name  # Define directory_name as a global variable\n",
        "\n",
        "    clear_output(wait=True)\n",
        "\n",
        "    # Check if any files are uploaded\n",
        "    if not change.new:\n",
        "        print(\"Please upload a file.\")\n",
        "        return\n",
        "\n",
        "    # Get the uploaded file\n",
        "    uploaded_file = next(iter(change.new.values()))\n",
        "    excel_content = uploaded_file['content']\n",
        "\n",
        "    global xls_file  # Access the global variable\n",
        "    # Read the Excel file\n",
        "    try:\n",
        "        xls_file = pd.ExcelFile(excel_content)\n",
        "    except Exception as e:\n",
        "        print(f\"Error reading Excel file: {e}\")\n",
        "        return\n",
        "\n",
        "    # Define directory_name\n",
        "    directory_name = os.path.splitext(uploaded_file['metadata']['name'])[0]\n",
        "\n",
        "    # Create a directory to store CSV files\n",
        "    os.makedirs(directory_name, exist_ok=True)\n",
        "\n",
        "    # Create buttons for user input\n",
        "    yes_button = widgets.Button(description=\"Yes\", button_style=\"success\")\n",
        "    no_button = widgets.Button(description=\"No\", button_style=\"danger\")\n",
        "    buttons_box = widgets.HBox([yes_button, no_button])\n",
        "    display(HTML(\"<p style='font-size:14px;'><b>Separate tables in each sheet into different CSV files?</b></p>\"))\n",
        "    display(buttons_box)\n",
        "\n",
        "    def on_yes_button_clicked(b):\n",
        "        clear_output(wait=True)\n",
        "        separate_tables = 'yes'\n",
        "        process_sheet(separate_tables)\n",
        "\n",
        "    def on_no_button_clicked(b):\n",
        "        clear_output(wait=True)\n",
        "        separate_tables = 'no'\n",
        "        process_sheet(separate_tables)\n",
        "\n",
        "    yes_button.on_click(on_yes_button_clicked)\n",
        "    no_button.on_click(on_no_button_clicked)\n",
        "\n",
        "def process_sheet(separate_tables):\n",
        "    # Iterate over each sheet\n",
        "    for sheet_name in xls_file.sheet_names:\n",
        "        df = pd.read_excel(xls_file, sheet_name=sheet_name, header=None)\n",
        "\n",
        "        # Determine whether to separate tables or not\n",
        "        if separate_tables == 'yes':\n",
        "            csv_files = detect_and_save_tables(sheet_name, df)\n",
        "        else:\n",
        "            csv_file = f\"{sheet_name}.csv\"\n",
        "            df.to_csv(csv_file, index=False, header=False)  # Disable header\n",
        "            csv_files = [csv_file]\n",
        "\n",
        "        # Move CSV files to directory\n",
        "        for csv_file in csv_files:\n",
        "            new_csv_file = os.path.join(directory_name, csv_file)\n",
        "            if os.path.exists(new_csv_file):\n",
        "                os.remove(new_csv_file)  # Remove existing file\n",
        "            shutil.move(csv_file, new_csv_file)\n",
        "\n",
        "    # Create a zip file of the directory\n",
        "    zip_file = shutil.make_archive(directory_name, 'zip', directory_name)\n",
        "\n",
        "    # Trigger the download of the zip file\n",
        "    files.download(zip_file)\n",
        "\n",
        "# Displaying file upload message\n",
        "display(HTML(\"<p style='font-size:14px;'><b>Please upload your Excel file.</b></p>\"))\n",
        "\n",
        "# Creating upload button\n",
        "upload_button = widgets.FileUpload()\n",
        "upload_button.observe(process_excel, names='value')\n",
        "\n",
        "# Displaying the upload button\n",
        "display(upload_button)\n"
      ],
      "metadata": {
        "cellView": "form",
        "id": "bJbUxbwZ5vSj"
      },
      "execution_count": null,
      "outputs": []
    }
  ]
}