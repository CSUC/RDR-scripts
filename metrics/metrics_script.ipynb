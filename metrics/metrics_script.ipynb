{
  "cells": [
    {
      "cell_type": "markdown",
      "source": [
        "# Script per extreure mètriques ddels datasets d'una instància"
      ],
      "metadata": {
        "id": "ii4KZzWjUUQP"
      },
      "id": "ii4KZzWjUUQP"
    },
    {
      "cell_type": "markdown",
      "source": [
        "OBSERVACIÓ: Si teniu dubtes del codi, contactar amb rdr-contacte@csuc.cat"
      ],
      "metadata": {
        "id": "7Q5ERdCSU_vp"
      },
      "id": "7Q5ERdCSU_vp"
    },
    {
      "cell_type": "markdown",
      "source": [
        "## OBJECTIU DE L'SCRIPT"
      ],
      "metadata": {
        "id": "IoOXurWSVBij"
      },
      "id": "IoOXurWSVBij"
    },
    {
      "cell_type": "markdown",
      "source": [
        "L'objectiu principal d'aquest script és extreure les mètriques dels datasets d'una instància."
      ],
      "metadata": {
        "id": "bYHt1XqoVEJk"
      },
      "id": "bYHt1XqoVEJk"
    },
    {
      "cell_type": "code",
      "source": [
        "# @title Instal·lar o actualitzar llibreries (Clicar botó d'executar &#x25B6; )\n",
        "from google.colab import output\n",
        "import ipywidgets as widgets\n",
        "from IPython.display import display, HTML, clear_output\n",
        "\n",
        "# Function to install required packages\n",
        "def install_packages(b):\n",
        "    clear_output(wait=True)\n",
        "    !pip install --upgrade pip -q\n",
        "    !pip install pyDataverse -q\n",
        "    !pip install numpy -q\n",
        "    !pip install numpy pandas -q\n",
        "    !pip install openpyxl -q\n",
        "    print(\"S'han descarregat o actualitzat les llibreries.\")\n",
        "\n",
        "# Displaying installation message\n",
        "display(HTML(\"<p style='font-size:14px;'><b>Feu clic al botó següent per instal·lar les llibreries.</b></p>\"))\n",
        "\n",
        "# Creating installation button\n",
        "install_button = widgets.Button(description='Instal·lar llibreries')\n",
        "install_button.on_click(install_packages)\n",
        "\n",
        "# Displaying the installation button\n",
        "display(install_button)"
      ],
      "metadata": {
        "id": "yHpmwLfg5KsC",
        "cellView": "form"
      },
      "id": "yHpmwLfg5KsC",
      "execution_count": null,
      "outputs": []
    },
    {
      "cell_type": "code",
      "execution_count": null,
      "id": "a22bd932",
      "metadata": {
        "id": "a22bd932",
        "cellView": "form"
      },
      "outputs": [],
      "source": [
        "# @title Feu clic al botó Executar &#x25B6; , ompliu el token i l'alias de la institució\n",
        "\n",
        "import subprocess\n",
        "import smtplib\n",
        "import os\n",
        "from email.mime.multipart import MIMEMultipart\n",
        "from email.mime.base import MIMEBase\n",
        "from email import encoders\n",
        "from pyDataverse.api import NativeApi, DataAccessApi, MetricsApi\n",
        "from pyDataverse.models import Dataverse\n",
        "import pandas as pd\n",
        "import requests\n",
        "import logging\n",
        "from datetime import datetime\n",
        "\n",
        "class UtilsConnection:\n",
        "    def __init__(self, config):\n",
        "        self.config = config\n",
        "\n",
        "    def call_api(self, url, method, data=None):\n",
        "        payload = {}\n",
        "        headers = {'X-Dataverse-key': config.get_token()}\n",
        "\n",
        "        response = requests.request(\"GET\", url, headers=headers, data=payload)\n",
        "        response.raise_for_status()\n",
        "        return response.json()\n",
        "\n",
        "class Config:\n",
        "    def __init__(self, api_url, logger, token):\n",
        "        self.api_url = api_url\n",
        "        self.logger = logger\n",
        "        self.token = token\n",
        "\n",
        "    def get_app_config(self):\n",
        "        return self\n",
        "\n",
        "    def get_api_url(self):\n",
        "        return self.api_url\n",
        "\n",
        "    def get_logger(self):\n",
        "        return self.logger\n",
        "\n",
        "    def get_token(self):\n",
        "        return self.token\n",
        "\n",
        "class DatasetProcessor:\n",
        "    def __init__(self, config, identifier):\n",
        "        self.config = config\n",
        "        self.list_datasets = []\n",
        "        self.list_dataverse_children = []\n",
        "        self.identifier = identifier\n",
        "\n",
        "    def update_list_dataset(self, dataset_id):\n",
        "        self.list_datasets.append(dataset_id)\n",
        "\n",
        "    def update_list_dataverse_children(self, dataseverse_id):\n",
        "        self.list_dataverse_children.append(dataseverse_id)\n",
        "\n",
        "    def remove_id_list_dataverse_children(self, dataseverse_id):\n",
        "        self.list_dataverse_children.remove(dataseverse_id)\n",
        "\n",
        "    def get_list_datasets(self):\n",
        "        return self.list_datasets\n",
        "\n",
        "    def get_list_dataverse_children(self):\n",
        "        return self.list_dataverse_children\n",
        "\n",
        "    def count(self):\n",
        "        return len(self.list_datasets)\n",
        "\n",
        "    def create_list_datasets(self, identifier):\n",
        "\n",
        "        conn = UtilsConnection(self.config)\n",
        "\n",
        "        url_api = f\"{self.config.get_api_url()}/api/dataverses/{identifier}/contents\"\n",
        "        object_json = conn.call_api(url_api, \"GET\")\n",
        "\n",
        "        if object_json:\n",
        "            self.config.get_logger().info(f\"Reading the API values\")\n",
        "            array_json = object_json.get(\"data\", {})\n",
        "\n",
        "            for value in array_json:\n",
        "                if value['type'] == 'dataverse':\n",
        "                    self.update_list_dataverse_children(value['id'])\n",
        "                elif value['type'] == 'dataset' and value['protocol'] == 'doi':\n",
        "                    self.update_list_dataset(value['protocol'] + ':' + value['authority'] + '/' + value['identifier'])\n",
        "        else:\n",
        "            self.config.get_logger().error(f\"Call API ERROR\")\n",
        "\n",
        "        if not identifier == self.identifier:\n",
        "            self.remove_id_list_dataverse_children(identifier)\n",
        "\n",
        "        if len(self.get_list_dataverse_children()) != 0:\n",
        "\n",
        "            self.create_list_datasets(self.get_list_dataverse_children()[0])\n",
        "\n",
        "SERVER_URL = \"https://dataverse.csuc.cat\"# URL del repositori, pel PRE utilitzar https://dataverse.pre.csuc.cat/\n",
        "token= '93104f52-1a9e-4081-b946-b5d3f48ca9fe' #token privat d'Admin, consultar-lo a la interfície de CORA.RDR\n",
        "api = NativeApi(SERVER_URL,token)\n",
        "data_api = DataAccessApi(SERVER_URL,token)\n",
        "# Configuración y ejecución\n",
        "logging.basicConfig(level=logging.INFO)\n",
        "logger = logging.getLogger(__name__)\n",
        "token = input(\"Introduïu el vostre token i premeu enter: \")\n",
        "alias = input(\"Introduïu l'alias de la institució: \")\n",
        "config = Config(api_url=\"https://dataverse.csuc.cat/\", logger=logger, token=token)\n",
        "processor = DatasetProcessor(config, alias)\n",
        "processor.create_list_datasets(alias)\n",
        "metrics_data = []\n",
        "def fetch_metric(doi, metric):\n",
        "    try:\n",
        "        url = f\"{SERVER_URL}/api/datasets/:persistentId/makeDataCount/{metric}?persistentId={doi}\"\n",
        "        response = requests.get(url)\n",
        "        if response.status_code == 200:\n",
        "            data = response.json()\n",
        "            if data[\"status\"] == \"OK\" and \"data\" in data:\n",
        "                if metric == \"citations\":\n",
        "                    return len(data[\"data\"])\n",
        "                elif isinstance(data[\"data\"], dict):\n",
        "                    return data[\"data\"].get(metric, None)\n",
        "    except Exception as e:\n",
        "        print(f\"An error occurred while fetching {metric} for {doi}: {e}\")\n",
        "    return None\n",
        "for i in processor.get_list_datasets():\n",
        "    metrics_data.append({\n",
        "        \"DOI\": i,\n",
        "        \"Total Views\": fetch_metric(i, \"viewsTotal\"),\n",
        "        \"Unique Views\": fetch_metric(i, \"viewsUnique\"),\n",
        "        \"Total Downloads\": fetch_metric(i, \"downloadsTotal\"),\n",
        "        \"Unique Downloads\": fetch_metric(i, \"downloadsUnique\"),\n",
        "        \"Citations\": fetch_metric(i, \"citations\")\n",
        "    })\n",
        "\n",
        "# Create a DataFrame from the metrics data\n",
        "df = pd.DataFrame(metrics_data)\n",
        "\n",
        "# Extract the numeric part of the DOI and convert it to int for sorting\n",
        "df['DOI_Number'] = df['DOI'].str.extract(r'data(\\d+)').astype(int)\n",
        "\n",
        "# Sort the DataFrame based on the DOI_Number column\n",
        "df = df.sort_values(by='DOI_Number')\n",
        "\n",
        "# Format the DOI column as 'https://doi.org/10.34810/dataXXX'\n",
        "df['DOI'] = 'https://doi.org/10.34810/data' + df['DOI_Number'].astype(str)\n",
        "\n",
        "# Drop the DOI_Number column (optional)\n",
        "df = df.drop(columns=['DOI_Number'])\n",
        "\n",
        "df"
      ]
    },
    {
      "cell_type": "code",
      "execution_count": null,
      "id": "6c85ee67",
      "metadata": {
        "id": "6c85ee67",
        "colab": {
          "base_uri": "https://localhost:8080/",
          "height": 17
        },
        "cellView": "form",
        "outputId": "daff5918-2453-43b2-c6a1-caf4df11f5f7"
      },
      "outputs": [
        {
          "output_type": "display_data",
          "data": {
            "text/plain": [
              "<IPython.core.display.Javascript object>"
            ],
            "application/javascript": [
              "\n",
              "    async function download(id, filename, size) {\n",
              "      if (!google.colab.kernel.accessAllowed) {\n",
              "        return;\n",
              "      }\n",
              "      const div = document.createElement('div');\n",
              "      const label = document.createElement('label');\n",
              "      label.textContent = `Downloading \"${filename}\": `;\n",
              "      div.appendChild(label);\n",
              "      const progress = document.createElement('progress');\n",
              "      progress.max = size;\n",
              "      div.appendChild(progress);\n",
              "      document.body.appendChild(div);\n",
              "\n",
              "      const buffers = [];\n",
              "      let downloaded = 0;\n",
              "\n",
              "      const channel = await google.colab.kernel.comms.open(id);\n",
              "      // Send a message to notify the kernel that we're ready.\n",
              "      channel.send({})\n",
              "\n",
              "      for await (const message of channel.messages) {\n",
              "        // Send a message to notify the kernel that we're ready.\n",
              "        channel.send({})\n",
              "        if (message.buffers) {\n",
              "          for (const buffer of message.buffers) {\n",
              "            buffers.push(buffer);\n",
              "            downloaded += buffer.byteLength;\n",
              "            progress.value = downloaded;\n",
              "          }\n",
              "        }\n",
              "      }\n",
              "      const blob = new Blob(buffers, {type: 'application/binary'});\n",
              "      const a = document.createElement('a');\n",
              "      a.href = window.URL.createObjectURL(blob);\n",
              "      a.download = filename;\n",
              "      div.appendChild(a);\n",
              "      a.click();\n",
              "      div.remove();\n",
              "    }\n",
              "  "
            ]
          },
          "metadata": {}
        },
        {
          "output_type": "display_data",
          "data": {
            "text/plain": [
              "<IPython.core.display.Javascript object>"
            ],
            "application/javascript": [
              "download(\"download_7f4be03a-f14c-4e6a-9aa8-d26bc0e727ef\", \"dataverse_metrics.xlsx\", 5826)"
            ]
          },
          "metadata": {}
        }
      ],
      "source": [
        "# @title Clicar el botó &#x25B6; per guardar les dades en un fitxer excel.\n",
        "from google.colab import files\n",
        "# Save the DataFrame to an Excel file\n",
        "excel_filename = 'dataverse_metrics.xlsx'\n",
        "df.to_excel(excel_filename, index=False)\n",
        "# Provide download link for the file\n",
        "files.download(excel_filename)"
      ]
    }
  ],
  "metadata": {
    "kernelspec": {
      "display_name": "Python 3 (ipykernel)",
      "language": "python",
      "name": "python3"
    },
    "language_info": {
      "codemirror_mode": {
        "name": "ipython",
        "version": 3
      },
      "file_extension": ".py",
      "mimetype": "text/x-python",
      "name": "python",
      "nbconvert_exporter": "python",
      "pygments_lexer": "ipython3",
      "version": "3.9.12"
    },
    "colab": {
      "provenance": []
    }
  },
  "nbformat": 4,
  "nbformat_minor": 5
}